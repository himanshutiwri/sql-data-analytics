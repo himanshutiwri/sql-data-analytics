{
 "cells": [
  {
   "cell_type": "code",
   "execution_count": 7,
   "id": "8a9d11f4-9165-49c3-9287-cbc3a46767a1",
   "metadata": {},
   "outputs": [],
   "source": [
    "import pandas as pd\n",
    "import os\n",
    "from sqlalchemy import create_engine\n",
    "import logging\n",
    "import time\n",
    "\n",
    "logging.basicConfig(\n",
    "    filename=\"logs/ingestion_db.log\",\n",
    "    level=logging.DEBUG,\n",
    "    format=\"%(asctime)s - %(levelname)s - %(message)s\",\n",
    "    filemode=\"a\"\n",
    ")\n",
    "\n",
    "engine = create_engine('sqlite:///inventory.db')\n",
    "\n",
    "def ingest_db(df, table_name, engine, if_exists=\"replace\"):\n",
    "    \"\"\"Ingest a DataFrame into SQLite table\"\"\"\n",
    "    df.to_sql(table_name, con=engine, if_exists=if_exists, index=False)\n",
    "\n",
    "def load_raw_data():\n",
    "    \"\"\"This function will load the CSVs as dataframe and ingest into db\"\"\"\n",
    "    start = time.time()\n",
    "    \n",
    "    for file in os.listdir('data'):\n",
    "        if file.endswith('.csv'):\n",
    "            table_name = file[:-4]\n",
    "            logging.info(f'Starting ingestion of {file} into table {table_name}')\n",
    "            \n",
    "            # Special handling for large sales.csv\n",
    "            if file == 'sales.csv':\n",
    "                chunksize = 50000  # adjust based on RAM\n",
    "                first_chunk = True\n",
    "                for chunk in pd.read_csv(f'data/{file}', chunksize=chunksize):\n",
    "                    logging.info(f'Processing chunk with shape: {chunk.shape} from {file}')\n",
    "                    if first_chunk:\n",
    "                        ingest_db(chunk, table_name, engine, if_exists='replace')\n",
    "                        first_chunk = False\n",
    "                    else:\n",
    "                        ingest_db(chunk, table_name, engine, if_exists='append')\n",
    "            else:\n",
    "                df = pd.read_csv(f'data/{file}')\n",
    "                logging.info(f'Loaded {file} with shape: {df.shape}')\n",
    "                ingest_db(df, table_name, engine, if_exists='replace')\n",
    "    \n",
    "    end = time.time()\n",
    "    total_time = (end - start) / 60\n",
    "    logging.info('--------------Ingestion Complete--------------')\n",
    "    logging.info(f'Total Time Taken: {total_time:.2f} minutes')\n",
    "\n",
    "if __name__ == '__main__':\n",
    "    load_raw_data()\n",
    "\n"
   ]
  },
  {
   "cell_type": "code",
   "execution_count": null,
   "id": "76e56b83-98c7-43fa-8e38-3e838266cc5b",
   "metadata": {},
   "outputs": [],
   "source": []
  },
  {
   "cell_type": "code",
   "execution_count": null,
   "id": "5ea92fe9-1c1b-4c57-9633-72f829f19150",
   "metadata": {},
   "outputs": [],
   "source": []
  }
 ],
 "metadata": {
  "kernelspec": {
   "display_name": "Python 3 (ipykernel)",
   "language": "python",
   "name": "python3"
  },
  "language_info": {
   "codemirror_mode": {
    "name": "ipython",
    "version": 3
   },
   "file_extension": ".py",
   "mimetype": "text/x-python",
   "name": "python",
   "nbconvert_exporter": "python",
   "pygments_lexer": "ipython3",
   "version": "3.12.7"
  }
 },
 "nbformat": 4,
 "nbformat_minor": 5
}
